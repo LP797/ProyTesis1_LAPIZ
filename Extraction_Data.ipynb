{
  "nbformat": 4,
  "nbformat_minor": 0,
  "metadata": {
    "colab": {
      "provenance": []
    },
    "kernelspec": {
      "name": "python3",
      "display_name": "Python 3"
    },
    "language_info": {
      "name": "python"
    }
  },
  "cells": [
    {
      "cell_type": "code",
      "execution_count": null,
      "metadata": {
        "id": "LIZcmy-tLqGM"
      },
      "outputs": [],
      "source": [
        "import numpy as np\n",
        "import nibabel as nib\n",
        "import glob\n",
        "import os\n",
        "from tifffile import imsave\n",
        "from PIL import Image\n",
        "import cv2"
      ]
    },
    {
      "cell_type": "code",
      "source": [
        "#Extracción de imágenes de 512x512 pixeles de los archivos .nii\n",
        "\n",
        "#Condiciones:\n",
        "  #Cantidad de imágenes igual a la de máscaras\n",
        "  #Cantidad de valores únicos igual a 3 ([0,1,2])\n",
        "  #Solo se consideran los casos donde hay más de 10 pixeles de interés (cálculos renales)\n",
        "np.seterr(divide='ignore', invalid='ignore') #Para ignorar la advertencia de dividir entre cero\n",
        "for a in range(260):\n",
        "    #a: número de tomografía computarizada\n",
        "    #num: String que permite identificar al archivo .nii correspondiente\n",
        "    if a < 10:\n",
        "        num = '00'+str(a)\n",
        "    elif a < 100:\n",
        "        num = '0'+str(a)\n",
        "    else:\n",
        "        num = str(a)\n",
        "    #Lectura de los archivos .nii (Dataset)\n",
        "    kidney_images=nib.load('D:\\DATASETS\\Kidney dataset\\Zenodo\\parts\\wd0'+num+'_ps_image.nii').get_fdata()\n",
        "    kidney_masks=nib.load('D:\\DATASETS\\Kidney dataset\\Zenodo\\parts\\wd0'+num+'_ps_mask.nii').get_fdata()\n",
        "    aux_masks=kidney_masks.astype(np.uint8) #aux_masks: Auxiliar para determinar valores mínimos\n",
        "    max1 = kidney_images.shape[2] #Cantidad de imágenes\n",
        "    max2 = kidney_masks.shape[2] #Cantidad de máscaras\n",
        "    #Se comprueba si la cantidad de imágenes = cantidad de máscaras y si estas últimas tienen 3 valores únicos\n",
        "    if(max1==max2 and len(np.unique(aux_masks))==3):\n",
        "        #Bucle para determinar el índice de la máscara\n",
        "        for i in range(max1):\n",
        "            count=0 #Cantidad de pixeles de cálculos renales\n",
        "            #Bucle dentro de los pixeles de una máscaras\n",
        "            for j in range(512):\n",
        "                for k in range(512):\n",
        "                    #Verificar si el pixel en cuestión pertenece a un cálculo renal\n",
        "                    if(kidney_masks[j,k,i]==1):\n",
        "                        count+=1\n",
        "            if(count>9):\n",
        "                #Máscara que cumple las condiciones previas\n",
        "                final_mask = kidney_masks[:,:,i]\n",
        "                #Se guarda la máscara en formato .png para que la imagen no pierda calidad\n",
        "                cv2.imwrite('D:\\DATASETS\\Kidney dataset\\Zenodo\\kidStn512_aux\\masks\\ct'+num+'_mask'+str(i)+'.png', final_mask)\n",
        "                #Imagen que cumple las condiciones previas y corresponde a la máscara\n",
        "                final_image = kidney_images[:,:,i]\n",
        "                #Se guarda la imagen en formato .jpg\n",
        "                cv2.imwrite('D:\\DATASETS\\Kidney dataset\\Zenodo\\kidStn512_aux\\images\\ct'+num+'_image'+str(i)+'.jpg', final_image)\n",
        "print('Done')"
      ],
      "metadata": {
        "id": "cc0IxAiAMc8J"
      },
      "execution_count": null,
      "outputs": []
    }
  ]
}